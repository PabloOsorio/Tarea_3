{
  "nbformat": 4,
  "nbformat_minor": 0,
  "metadata": {
    "colab": {
      "name": "Comanda _restaurante",
      "provenance": [],
      "authorship_tag": "ABX9TyP4OdHNVkTj9GJYhOd1DHuC",
      "include_colab_link": true
    },
    "kernelspec": {
      "name": "python3",
      "display_name": "Python 3"
    },
    "language_info": {
      "name": "python"
    }
  },
  "cells": [
    {
      "cell_type": "markdown",
      "metadata": {
        "id": "view-in-github",
        "colab_type": "text"
      },
      "source": [
        "<a href=\"https://colab.research.google.com/github/PabloOsorio/Tarea_3/blob/main/Comanda__restaurante.ipynb\" target=\"_parent\"><img src=\"https://colab.research.google.com/assets/colab-badge.svg\" alt=\"Open In Colab\"/></a>"
      ]
    },
    {
      "cell_type": "code",
      "metadata": {
        "id": "e_jK3_Kr_3Fc",
        "colab": {
          "base_uri": "https://localhost:8080/"
        },
        "outputId": "6c928b38-6356-47d7-8ce5-b6a809e94252"
      },
      "source": [
        "print(\"Comanda Clientela\")\n",
        "N_mesa= int(input(\"Numero de mesa: \"))\n",
        "\n",
        "N_cliente= int(input(\"Introduce el numero de comensal: \"))\n",
        "\n",
        "Entrada= (input(\"Introduce la entrada: \"))\n",
        "\n",
        "Medio= (input(\"Introduce el tiempo medio pedido: \"))\n",
        "\n",
        "Fuerte= (input(\"Introduce plato fuerte pedido:  \"))\n",
        "\n",
        "Adicionales= (input(\"Introduce indicaciones extras: \"))\n",
        "\n",
        "Comanda = {\"Numero de mesa\" : N_mesa, \"Numero de cliente\" : N_cliente, \"Entrada pedida\" : Entrada, \"Tiempo Medio\" : Medio, \"Plato Fuerte\" : Fuerte, \"Indicaciones extras\" : Adicionales}\n",
        "print(Comanda)\n"
      ],
      "execution_count": 2,
      "outputs": [
        {
          "output_type": "stream",
          "name": "stdout",
          "text": [
            "Comanda Clientela\n",
            "Numero de mesa: 5\n",
            "Introduce el numero de comensal: 23\n",
            "Introduce la entrada: Huevo con arroz\n",
            "Introduce el tiempo medio pedido: caldo de pollo\n",
            "Introduce plato fuerte pedido:  bisteck en morita\n",
            "Introduce indicaciones extras: el huevo tierno y agua de jamaica \n",
            "{'Numero de mesa': 5, 'Numero de cliente': 23, 'Entrada pedida': 'Huevo con arroz', 'Tiempo Medio': 'caldo de pollo', 'Plato Fuerte': 'bisteck en morita', 'Indicaciones extras': 'el huevo tierno y agua de jamaica '}\n"
          ]
        }
      ]
    }
  ]
}